{
 "cells": [
  {
   "cell_type": "code",
   "execution_count": 12,
   "metadata": {
    "collapsed": false
   },
   "outputs": [],
   "source": [
    "import pandas as pd\n",
    "import numpy as np\n",
    "df = pd.read_csv('~/GA-DSI/curriculum/week-02/2.2-lab-pandas-2/assets/datasets/StarWars.csv')"
   ]
  },
  {
   "cell_type": "markdown",
   "metadata": {},
   "source": [
    "Let's use the Star Wars dataset again. Load it in and pull up the head. \n",
    "\n",
    "```../../../1.2-study-design/assets/datasets/StarWars.csv```"
   ]
  },
  {
   "cell_type": "markdown",
   "metadata": {},
   "source": [
    "#### Create a hypothesis involving different subsections of the data. \n",
    "\n",
    "For example:\n",
    "- Are respondents more likely to respond \"Han\" to the question \"Who shot first?\" if they also say they are fans of Star Trek?\n",
    "\n",
    "Type your hypothesis in a markdown cell below:"
   ]
  },
  {
   "cell_type": "markdown",
   "metadata": {},
   "source": []
  },
  {
   "cell_type": "markdown",
   "metadata": {},
   "source": [
    "Use boolean indexing to create subsets of the data to support your hypothesis. See if you can answer questions using mutiple variables. "
   ]
  },
  {
   "cell_type": "code",
   "execution_count": 20,
   "metadata": {
    "collapsed": false
   },
   "outputs": [
    {
     "data": {
      "text/plain": [
       "0       ResponseResponse\n",
       "1                  YesNo\n",
       "2                    NaN\n",
       "3                   NoNo\n",
       "4                 YesYes\n",
       "5                  YesNo\n",
       "6                 YesYes\n",
       "7                  YesNo\n",
       "8                 YesYes\n",
       "9                  YesNo\n",
       "10                  NoNo\n",
       "11                   NaN\n",
       "12                   NaN\n",
       "13                  NoNo\n",
       "14                 YesNo\n",
       "15                 YesNo\n",
       "16                YesYes\n",
       "17                 YesNo\n",
       "18                 YesNo\n",
       "19                 YesNo\n",
       "20                YesYes\n",
       "21                 YesNo\n",
       "22                  NoNo\n",
       "23                YesYes\n",
       "24                 YesNo\n",
       "25                 YesNo\n",
       "26                   NaN\n",
       "27                 YesNo\n",
       "28                 YesNo\n",
       "29                 YesNo\n",
       "              ...       \n",
       "1157                NoNo\n",
       "1158                 NaN\n",
       "1159                NoNo\n",
       "1160                 NaN\n",
       "1161                NoNo\n",
       "1162                NoNo\n",
       "1163               YesNo\n",
       "1164                NoNo\n",
       "1165                NoNo\n",
       "1166              YesYes\n",
       "1167               YesNo\n",
       "1168                NoNo\n",
       "1169                 NaN\n",
       "1170              YesYes\n",
       "1171                 NaN\n",
       "1172              YesYes\n",
       "1173              YesYes\n",
       "1174              YesYes\n",
       "1175               NoYes\n",
       "1176              YesYes\n",
       "1177                NoNo\n",
       "1178               NoYes\n",
       "1179                 NaN\n",
       "1180              YesYes\n",
       "1181               YesNo\n",
       "1182              YesYes\n",
       "1183              YesYes\n",
       "1184                 NaN\n",
       "1185              YesYes\n",
       "1186                NoNo\n",
       "Name: StarwarsVTrek, dtype: object"
      ]
     },
     "execution_count": 20,
     "metadata": {},
     "output_type": "execute_result"
    }
   ],
   "source": [
    "df['StarwarsVTrek'] = df['Do you consider yourself to be a fan of the Star Wars film franchise?'] + \\\n",
    "df['Do you consider yourself to be a fan of the Star Trek franchise?']\n",
    "df['StarwarsVTrek']"
   ]
  },
  {
   "cell_type": "markdown",
   "metadata": {},
   "source": [
    "**Bonus** : Use matplotlib or seaborn to present your findings.  "
   ]
  },
  {
   "cell_type": "code",
   "execution_count": null,
   "metadata": {
    "collapsed": true
   },
   "outputs": [],
   "source": []
  },
  {
   "cell_type": "markdown",
   "metadata": {},
   "source": [
    "**Bonus 2** : Create another, more complex hypothesis, support it, and plot it below. "
   ]
  },
  {
   "cell_type": "code",
   "execution_count": null,
   "metadata": {
    "collapsed": true
   },
   "outputs": [],
   "source": []
  }
 ],
 "metadata": {
  "kernelspec": {
   "display_name": "Python 2",
   "language": "python",
   "name": "python2"
  },
  "language_info": {
   "codemirror_mode": {
    "name": "ipython",
    "version": 2
   },
   "file_extension": ".py",
   "mimetype": "text/x-python",
   "name": "python",
   "nbconvert_exporter": "python",
   "pygments_lexer": "ipython2",
   "version": "2.7.12"
  }
 },
 "nbformat": 4,
 "nbformat_minor": 0
}
