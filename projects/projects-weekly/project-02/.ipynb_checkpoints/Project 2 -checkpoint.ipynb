{
 "cells": [
  {
   "cell_type": "markdown",
   "metadata": {},
   "source": [
    "Introduction and Hypothesis \n",
    "\n",
    "*Billboard's* Hot 100 is a list of the most popular songs in the United States during any given week. While the formula behind the Hot 100 is a blend of airplay, sales, and streaming data, there are many factors that contribute to a song's longterm success. Using *Billboard* chart data from the year 2000, this project explores the relationship between song length and time on the charts. \n",
    "\n",
    "Hypothesis: Tracks between 3 and 5 minutes spend more time on the charts than longer or shorter tracks. \n",
    "\n",
    "Null Hypothesis: There is no relationship between length of track and how long it stays on the charts. \n",
    "\n",
    "Risks and Assumptions \n",
    "\n",
    "While *Billboard* is considered a fairly objective arbiter of musical rankings and the chart methodology is quite transparent, it does have its limitiations. One such limitation is due to the versatile nature of the ranking system. In this case we know the charts are derived from a period (post 1999, pre 2004)where airplay was weighted more than sales, which presents a potential source of error in the ranking system. \n",
    "\n",
    "Another limitation is a lack of access to the data that makes up the chart. The Top 100 charts use various data sources (e.g., sales data, radio plays, etc.) to rank tracks but we only have the ranking and not the initial data. And even if we were to assume that *Billboard's* formula was perfect, our dataset has errors.  For instance, there were many tracks that were miscategorized and while this was a relatively easy fix, it shed doubt on the rest of the data. "
   ]
  },
  {
   "cell_type": "markdown",
   "metadata": {},
   "source": [
    "Methodology \n",
    "\n",
    "The dataset I worked with was compiled from *Billboard's* Top 100 charts from the year 2000. For the purpose of this project I made very few modifications to the original dataset. The changes I initially made were inconsequential to my analysis (e.g. re-assigning genres, categorizing by type of performer)because I really only needed to alter the 'time' column (see below). After cleaning the data I applied simple statistical analysis and used scatter, bar, and pair plots to get a sense of the relationship between track length and time on the charts. I used a SciPy ttest to check for statistical significance. \n",
    " "
   ]
  },
  {
   "cell_type": "markdown",
   "metadata": {},
   "source": [
    "Data Cleaning: "
   ]
  },
  {
   "cell_type": "code",
   "execution_count": 35,
   "metadata": {
    "collapsed": false
   },
   "outputs": [],
   "source": [
    "import pandas as pd\n",
    "import numpy as np \n",
    "import matplotlib.pyplot as plt \n",
    "plt.style.use('ggplot')\n",
    "%matplotlib inline\n",
    "import statsmodels.api as sm \n",
    "import pylab as pl\n",
    "import seaborn as sns\n",
    "\n",
    "df = pd.read_csv('./assets/billboard.csv') # import data\n"
   ]
  },
  {
   "cell_type": "code",
   "execution_count": 36,
   "metadata": {
    "collapsed": false
   },
   "outputs": [
    {
     "data": {
      "text/plain": [
       "array(['Pop', 'Rock', \"Rock'n'roll\", 'Latin', 'R&B', 'Country', 'Rap',\n",
       "       'Electronica', 'Jazz', 'R & B', 'Reggae', 'Gospel'], dtype=object)"
      ]
     },
     "execution_count": 36,
     "metadata": {},
     "output_type": "execute_result"
    }
   ],
   "source": [
    "df['genre'].unique()#check genres"
   ]
  },
  {
   "cell_type": "code",
   "execution_count": 37,
   "metadata": {
    "collapsed": true
   },
   "outputs": [],
   "source": [
    "df['genre'].replace(to_replace='R & B', value='R&B', inplace=True) \n",
    "df['genre'].replace(to_replace=\"Rock'n'roll\", value ='Rock', inplace=True) #streamline genre category "
   ]
  },
  {
   "cell_type": "code",
   "execution_count": 38,
   "metadata": {
    "collapsed": true
   },
   "outputs": [],
   "source": [
    "df[df['artist.inverted'] == 'Janet']= \\\n",
    "df[df['artist.inverted'] == 'Janet'].replace(to_replace='Janet',value = 'Jackson,Janet')# add missing surname\n",
    "# This is about when I realized that some genre categories needed to be reassigned--I used Excel for this"
   ]
  },
  {
   "cell_type": "code",
   "execution_count": 39,
   "metadata": {
    "collapsed": true
   },
   "outputs": [],
   "source": [
    "df[['date.entered', 'date.peaked']] = df[['date.entered', 'date.peaked']].apply(pd.to_datetime) \n",
    "#change date format "
   ]
  },
  {
   "cell_type": "code",
   "execution_count": 40,
   "metadata": {
    "collapsed": true
   },
   "outputs": [],
   "source": [
    "def split_time(x): \n",
    "    x =x.split(',')\n",
    "    return ':'.join([x[0],x[1]])\n",
    "    #return x[0]\n",
    "df['time']= df['time'].map(split_time) #convert time formating to minutes and seconds (mm:ss)"
   ]
  },
  {
   "cell_type": "code",
   "execution_count": 41,
   "metadata": {
    "collapsed": true
   },
   "outputs": [],
   "source": [
    "def replace_nulls(value): \n",
    "    if value == '*': \n",
    "        return np.nan\n",
    "    else: \n",
    "        return value\n",
    "df = df.applymap(replace_nulls)\n",
    "df.iloc[:,7:]=df.iloc[:,7:].apply(pd.to_numeric, errors='ignore')\n",
    "df['weeks_on_charts']= df.iloc[:,8:].count(axis=1)#add a new column by number of weeks a track appears on chart"
   ]
  },
  {
   "cell_type": "code",
   "execution_count": 42,
   "metadata": {
    "collapsed": true
   },
   "outputs": [],
   "source": [
    "df['list_time'] = [row[0] for row in df['time']] #add new column with just minute value (2,3,4,5,6,7)"
   ]
  },
  {
   "cell_type": "code",
   "execution_count": 43,
   "metadata": {
    "collapsed": true
   },
   "outputs": [],
   "source": [
    "df.sort_values('time',inplace=True) #sort time values in descending order and save in dataframe"
   ]
  },
  {
   "cell_type": "markdown",
   "metadata": {},
   "source": [
    "Data exploration: "
   ]
  },
  {
   "cell_type": "code",
   "execution_count": 44,
   "metadata": {
    "collapsed": false
   },
   "outputs": [
    {
     "data": {
      "text/plain": [
       "dtype('O')"
      ]
     },
     "execution_count": 44,
     "metadata": {},
     "output_type": "execute_result"
    }
   ],
   "source": [
    "df['time'].dtype #check time type "
   ]
  },
  {
   "cell_type": "code",
   "execution_count": 45,
   "metadata": {
    "collapsed": false
   },
   "outputs": [
    {
     "data": {
      "text/plain": [
       "3    154\n",
       "4    125\n",
       "5     20\n",
       "2     11\n",
       "6      4\n",
       "7      3\n",
       "Name: list_time, dtype: int64"
      ]
     },
     "execution_count": 45,
     "metadata": {},
     "output_type": "execute_result"
    }
   ],
   "source": [
    "df['list_time'].value_counts() #check total values by song length"
   ]
  },
  {
   "cell_type": "code",
   "execution_count": 46,
   "metadata": {
    "collapsed": false
   },
   "outputs": [
    {
     "data": {
      "image/png": "[encoded data removed]",
      "text/plain": [
       "<matplotlib.figure.Figure at 0x11bb43110>"
      ]
     },
     "metadata": {},
     "output_type": "display_data"
    }
   ],
   "source": [
    "sns.countplot(x=\"list_time\", data=df, palette=\"Reds_d\");#chart of song value counts "
   ]
  },
  {
   "cell_type": "code",
   "execution_count": 47,
   "metadata": {
    "collapsed": false
   },
   "outputs": [
    {
     "data": {
      "image/png": "[encoded data removed]",
      "text/plain": [
       "<matplotlib.figure.Figure at 0x11b7495d0>"
      ]
     },
     "metadata": {},
     "output_type": "display_data"
    }
   ],
   "source": [
    "sns.countplot(x=\"genre\", data=df, palette=\"Reds_d\");#chart of genres in list "
   ]
  },
  {
   "cell_type": "code",
   "execution_count": 48,
   "metadata": {
    "collapsed": false
   },
   "outputs": [
    {
     "data": {
      "text/plain": [
       "genre\n",
       "Country        16.800000\n",
       "Electronica    18.000000\n",
       "Gospel         20.000000\n",
       "Jazz            5.000000\n",
       "Latin          17.444444\n",
       "Pop            17.452381\n",
       "R&B            14.897959\n",
       "Rap            13.542373\n",
       "Reggae         15.000000\n",
       "Rock           19.947368\n",
       "Name: weeks_on_charts, dtype: float64"
      ]
     },
     "execution_count": 48,
     "metadata": {},
     "output_type": "execute_result"
    }
   ],
   "source": [
    "df.groupby(['genre'])['weeks_on_charts'].mean() #mean number of weeks each genre stayed on charts"
   ]
  },
  {
   "cell_type": "code",
   "execution_count": 49,
   "metadata": {
    "collapsed": false
   },
   "outputs": [
    {
     "data": {
      "text/plain": [
       "list_time\n",
       "2    15.727273\n",
       "3    16.902597\n",
       "4    17.080000\n",
       "5    15.250000\n",
       "6    13.000000\n",
       "7    13.000000\n",
       "Name: weeks_on_charts, dtype: float64"
      ]
     },
     "execution_count": 49,
     "metadata": {},
     "output_type": "execute_result"
    }
   ],
   "source": [
    "df.groupby(['list_time'])['weeks_on_charts'].mean() # list mean weeks on chart by song length "
   ]
  },
  {
   "cell_type": "code",
   "execution_count": 50,
   "metadata": {
    "collapsed": false
   },
   "outputs": [
    {
     "name": "stdout",
     "output_type": "stream",
     "text": [
      "High five! You successfuly sent some data to your account on plotly. View your plot in your browser at https://plot.ly/~biancaelder/0 or inside your plot.ly account where it is named 'styled-scatter'\n"
     ]
    },
    {
     "data": {
      "text/html": [
       "<iframe id=\"igraph\" scrolling=\"no\" style=\"border:none;\" seamless=\"seamless\" src=\"https://plot.ly/~biancaelder/0.embed\" height=\"525px\" width=\"100%\"></iframe>"
      ],
      "text/plain": [
       "<plotly.tools.PlotlyDisplay object>"
      ]
     },
     "execution_count": 50,
     "metadata": {},
     "output_type": "execute_result"
    }
   ],
   "source": [
    "import plotly.plotly as py\n",
    "import plotly.graph_objs as go\n",
    "\n",
    "trace0 = go.Scatter(\n",
    "    x = df['list_time'] ,\n",
    "    y = df['weeks_on_charts'],\n",
    "    name = 'Above',\n",
    "    mode = 'markers',\n",
    "    marker = dict(\n",
    "        size = 10,\n",
    "        color = 'rgba(152, 0, 0, .8)',\n",
    "        line = dict(\n",
    "            width = 2,\n",
    "            color = 'rgb(0, 0, 0)'\n",
    "        )\n",
    "    )\n",
    ")\n",
    "\n",
    "\n",
    "\n",
    "data = [trace0]\n",
    "\"\"\"title='x Axis',\n",
    "        titlefont=dict(\n",
    "            family='Courier New, monospace',\n",
    "            size=18,\n",
    "            color='#7f7f7f'\n",
    "        )\n",
    "    ),\n",
    "\"\"\"\n",
    "layout = dict(title = 'Weeks on Chart by Length of Song',\n",
    "              yaxis = dict(title='weeks on chart', titlefont=dict(\n",
    "            family='Courier New, monospace',\n",
    "            size=18,\n",
    "            color='#7f7f7f')\n",
    "        ),\n",
    "              xaxis = dict(title='song length (minutes)',\n",
    "        titlefont=dict(\n",
    "            family='Courier New, monospace',\n",
    "            size=18,\n",
    "            color='#7f7f7f'\n",
    "      \n",
    "        ))\n",
    "             )\n",
    "\n",
    "fig = dict(data=data, layout=layout)\n",
    "py.iplot(fig, filename='styled-scatter')\n",
    "\n",
    "#scatterplot of weeks on chart by length of song (minutes)"
   ]
  },
  {
   "cell_type": "code",
   "execution_count": 51,
   "metadata": {
    "collapsed": false,
    "scrolled": false
   },
   "outputs": [
    {
     "name": "stdout",
     "output_type": "stream",
     "text": [
      "High five! You successfuly sent some data to your account on plotly. View your plot in your browser at https://plot.ly/~biancaelder/0 or inside your plot.ly account where it is named 'styled-scatter'\n"
     ]
    },
    {
     "data": {
      "text/html": [
       "<iframe id=\"igraph\" scrolling=\"no\" style=\"border:none;\" seamless=\"seamless\" src=\"https://plot.ly/~biancaelder/0.embed\" height=\"525px\" width=\"100%\"></iframe>"
      ],
      "text/plain": [
       "<plotly.tools.PlotlyDisplay object>"
      ]
     },
     "execution_count": 51,
     "metadata": {},
     "output_type": "execute_result"
    }
   ],
   "source": [
    "\n",
    "trace0 = go.Scatter(\n",
    "    x = df['time'] ,\n",
    "    y = df['weeks_on_charts'],\n",
    "    name = 'Above',\n",
    "    mode = 'markers',\n",
    "    marker = dict(\n",
    "        size = 10,\n",
    "        color = 'rgba(152, 0, 0, .8)',\n",
    "        line = dict(\n",
    "            width = 2,\n",
    "            color = 'rgb(0, 0, 0)'\n",
    "        )\n",
    "    )\n",
    ")\n",
    "\n",
    "\n",
    "\n",
    "data = [trace0]\n",
    "\n",
    "layout = dict(title = 'Weeks on Chart by Length of Song',\n",
    "              yaxis = dict(title='weeks on chart', titlefont=dict(\n",
    "            family='Courier New, monospace',\n",
    "            size=18,\n",
    "            color='#7f7f7f')\n",
    "        ),\n",
    "              xaxis = dict(title='song length (minutes and seconds)',\n",
    "        titlefont=dict(\n",
    "            family='Courier New, monospace',\n",
    "            size=18,\n",
    "            color='#7f7f7f'\n",
    "      \n",
    "        ))\n",
    "             )\n",
    "\n",
    "fig = dict(data=data, layout=layout)\n",
    "py.iplot(fig, filename='styled-scatter')\n",
    "#scatter plot showing weeks on chart by length of song (minutes and seconds). "
   ]
  },
  {
   "cell_type": "code",
   "execution_count": 55,
   "metadata": {
    "collapsed": false
   },
   "outputs": [
    {
     "data": {
      "image/png": "[encoded data removed]",
      "text/plain": [
       "<matplotlib.figure.Figure at 0x11b3e2cd0>"
      ]
     },
     "metadata": {},
     "output_type": "display_data"
    }
   ],
   "source": [
    "g = sns.PairGrid(df_hypothesis, hue=\"list_time\", palette=\"Reds_d\")\n",
    "g.map(plt.scatter, s=50, edgecolor=\"white\")\n",
    "g.add_legend();"
   ]
  },
  {
   "cell_type": "code",
   "execution_count": 52,
   "metadata": {
    "collapsed": false
   },
   "outputs": [],
   "source": [
    "df['list_time'] = df['list_time'].astype('float') #convert list time values to float"
   ]
  },
  {
   "cell_type": "code",
   "execution_count": 58,
   "metadata": {
    "collapsed": false,
    "scrolled": true
   },
   "outputs": [
    {
     "data": {
      "text/plain": [
       "<seaborn.axisgrid.PairGrid at 0x11d8066d0>"
      ]
     },
     "execution_count": 58,
     "metadata": {},
     "output_type": "execute_result"
    },
    {
     "data": {
      "image/png": "[encoded data removed]",
      "text/plain": [
       "<matplotlib.figure.Figure at 0x11d806190>"
      ]
     },
     "metadata": {},
     "output_type": "display_data"
    }
   ],
   "source": [
    "import seaborn as sns\n",
    "sns.pairplot(df[['list_time','weeks_on_charts']], kind=\"reg\") #check correlation between song length and weeks on chart"
   ]
  },
  {
   "cell_type": "code",
   "execution_count": 29,
   "metadata": {
    "collapsed": false
   },
   "outputs": [
    {
     "data": {
      "text/plain": [
       "-0.042013726451193133"
      ]
     },
     "execution_count": 29,
     "metadata": {},
     "output_type": "execute_result"
    }
   ],
   "source": [
    "df['list_time'].corr(df['weeks_on_charts']) #check correlation again "
   ]
  },
  {
   "cell_type": "code",
   "execution_count": 30,
   "metadata": {
    "collapsed": true
   },
   "outputs": [],
   "source": [
    "df_hypothesis = pd.concat([df['list_time'],df['weeks_on_charts']], axis = 1)\n",
    "df_hypothesis['three_or_four'] = ['three/four' if x == 3 or x == 4 else 'other' for x in df_hypothesis ['list_time']] \n",
    "three_four = df_hypothesis.loc[df_hypothesis['three_or_four'] == 'three/four', :]\n",
    "other = df_hypothesis.loc[df_hypothesis['three_or_four'] == 'other', :] \n",
    "#create new dataframe divided by song length for t-test ()"
   ]
  },
  {
   "cell_type": "code",
   "execution_count": 31,
   "metadata": {
    "collapsed": false
   },
   "outputs": [
    {
     "data": {
      "text/plain": [
       "Ttest_indResult(statistic=1.2799251841915329, pvalue=0.20151326296634769)"
      ]
     },
     "execution_count": 31,
     "metadata": {},
     "output_type": "execute_result"
    }
   ],
   "source": [
    "from scipy import stats\n",
    "stats.ttest_ind(three_four['weeks_on_charts'], other['weeks_on_charts']) "
   ]
  },
  {
   "cell_type": "markdown",
   "metadata": {},
   "source": [
    "Results: "
   ]
  },
  {
   "cell_type": "markdown",
   "metadata": {},
   "source": [
    "These findings indicate that there is no significant correlation between song length and the number of weeks a song stays on the chart. While there is a slight negative correlation between these two variables(as shown in the pairplot and correlation coefficient), the p-value (0.20151326296634769) suggests that the relationship is not statistically significant and thus the null hypothesis cannot be rejected.\n"
   ]
  },
  {
   "cell_type": "code",
   "execution_count": null,
   "metadata": {
    "collapsed": true
   },
   "outputs": [],
   "source": []
  }
 ],
 "metadata": {
  "kernelspec": {
   "display_name": "Python 2",
   "language": "python",
   "name": "python2"
  },
  "language_info": {
   "codemirror_mode": {
    "name": "ipython",
    "version": 2
   },
   "file_extension": ".py",
   "mimetype": "text/x-python",
   "name": "python",
   "nbconvert_exporter": "python",
   "pygments_lexer": "ipython2",
   "version": "2.7.12"
  }
 },
 "nbformat": 4,
 "nbformat_minor": 0
}
